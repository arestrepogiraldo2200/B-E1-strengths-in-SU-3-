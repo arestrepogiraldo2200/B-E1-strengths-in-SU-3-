{
 "cells": [
  {
   "cell_type": "code",
   "execution_count": 7,
   "id": "d6b989e4",
   "metadata": {},
   "outputs": [],
   "source": [
    "import numpy as np\n",
    "from sympy.physics.quantum.cg import CG"
   ]
  },
  {
   "cell_type": "markdown",
   "id": "84711563",
   "metadata": {},
   "source": [
    "# Routines to compute multi-shell $SU(3)$ reduced matrix elements"
   ]
  },
  {
   "cell_type": "code",
   "execution_count": 17,
   "id": "99749682",
   "metadata": {},
   "outputs": [],
   "source": [
    "# Function to load reduced SU(3) Wigner coefficients < (λμ)KL; (λ'μ')K'L'|| (λ''μ'')K''L'' > from external file\n",
    "def loadWignerSU3(filename):\n",
    "\n",
    "    \n",
    "# ================================================================================================================ \n",
    "# Function to load SU(3) reduced matrix elements < (λ'μ') S' ||| a†{(η0)1/2} ||| (λμ) S > or \n",
    "#                                                < (λ'μ') S' ||| ã{(0η)1/2} ||| (λμ) S > \n",
    "#                                                from external file\n",
    "def loadSU3rme(filename):\n",
    "\n",
    "    \n",
    "# ================================================================================================================\n",
    "# Function to get a particular SU(3) Wigner coefficient\n",
    "def getWignerSU3(η1, l1, η2, l2, lam0, mu0, K0, L0):\n",
    "    \n",
    "    \n",
    "# ================================================================================================================   \n",
    "# Function to get a particular SU(3) reduced matrix element\n",
    "def getSU3rme(lam1, mu1, S1, lam0, mu0, S0, lam2, mu2, S2):\n",
    "    \n",
    "\n",
    "# ================================================================================================================\n",
    "# Function to compute multi-shell one body operator reduced matrix element \n",
    "#                          < (λ'μ') S' ||| {a†ã}{(λ0 μ0) S0} ||| (λμ) S >\n",
    "def oneBodySU3rme(lam1, mu1, S1, lam0, mu0, S0, lam2, mu2, S2):\n",
    "    \n",
    "    me = oneBodyCoupledme(lam1, mu1, K1, L1, M_L1, S1, M_S1,\n",
    "              lam0, mu0, K0, L0, M_L0, S0, M_S0,\n",
    "              lam2, mu2, K2, L2, M_L2, S2, M_S2)                                   # CHECKKKK!!!!!!!!!!!!!!!!!!!!!!\n",
    "    SU3Coeff = getWignerSU3(η1, l1, η2, l2, lam0, mu0, K0, L0)\n",
    "    SO3Coeff = float(CG(j1=l1, m1=ml1, j2=l2, m2=ml2, j3=L0, m3=M_L0).doit())      # CHECKKKK!!!!!!!!!!!!!!!!!!!!!!\n",
    "    SU2Coeff = float(CG(j1=1/2, m1=ms1, j2=1/2, m2=ms2, j3=S0, m3=M_S0).doit())    # CHECKKKK!!!!!!!!!!!!!!!!!!!!!!\n",
    "    EdmundsFactor = (np.sqrt(2*L1+1)*np.sqrt(2*S1+1))                              # CHECKKKK!!!!!!!!!!!!!!!!!!!!!!\n",
    "\n",
    "    return EdmundsFactor*me/(SU3Coeff*SO3Coeff*SU2Coeff)\n",
    "\n",
    "# ================================================================================================================\n",
    "# Function to compute matrix element of coupled multi-shell one body operator\n",
    "# < (λ'μ') K' L' M'_L' S' M'_S'| {a†ã}{(λ0 μ0) K0 L0 M_L0 S0 M_S0} | (λμ) K L M_L S M_S >\n",
    "def oneBodyCoupledme(lam1, mu1, K1, L1, M_L1, S1, M_S1,\n",
    "              lam0, mu0, K0, L0, M_L0, S0, M_S0,\n",
    "              lam2, mu2, K2, L2, M_L2, S2, M_S2):\n",
    "    \n",
    "    for \n",
    "        for \n",
    "            for \n",
    "                for \n",
    "                \n",
    "                    uncouplingCoeff()*oneBodyUncoupledme()\n",
    "    \n",
    "    return    \n",
    "\n",
    "# ================================================================================================================\n",
    "# Function to compute uncoupling coefficient of coupled {a†ã}{(λ0 μ0) K0 L0 M_L0 S0 M_S0} terms\n",
    "def uncouplingCoeff(η1, l1, ml1, ms1, η2, l2, ml2, ms2, lam0, mu0, K0, L0, M_L0, S0, M_S0):\n",
    "    \n",
    "    SU3Coeff = getWignerSU3(η1, l1, η2, l2, lam0, mu0, K0, L0)\n",
    "    SO3Coeff = float(CG(j1=l1, m1=ml1, j2=l2, m2=ml2, j3=L0, m3=M_L0).doit())\n",
    "    SU2Coeff = float(CG(j1=1/2, m1=ms1, j2=1/2, m2=ms2, j3=S0, m3=M_S0).doit())\n",
    "    \n",
    "    return SU3Coeff*SO3Coeff*SU2Coeff\n",
    "    \n",
    "# ================================================================================================================\n",
    "# Function to compute multi-shell uncoupled one-body matrix element\n",
    "# < (λ'μ') K' L' M'_L' S' M'_S'| a†{(η0)l m_l 1/2 m_s} ã{(0η)l m_l 1/2 m_s} | (λμ) K L M_L S M_S >\n",
    "def oneBodyUncoupledme(lam1, mu1, K1, L1, M_L1, S1, M_S1,\n",
    "              lam0, mu0, K0, L0, M_L0, S0, M_S0,\n",
    "              lam2, mu2, K2, L2, M_L2, S2, M_S2):\n",
    "    \n",
    "    for \n",
    "        for \n",
    "            for \n",
    "                for \n",
    "                \n",
    "                    ame()*ame()    \n",
    "    \n",
    "    return \n",
    "    \n",
    "# ================================================================================================================\n",
    "# Function to compute < (λ'μ') K' L' M'_L' S' M'_S'| a†{(η0)l m_l 1/2 m_s} | (λμ) K L M_L S M_S > \n",
    "#                  or < (λ'μ') K' L' M'_L' S' M'_S'| ã{(0η)l m_l 1/2 m_s} | (λμ) K L M_L S M_S >\n",
    "#                  from reduced matrix element and coupling coefficients\n",
    "def ame(lam1, mu1, K1, L1, M_L1, S1, M_S1,\n",
    "                   lam0, mu0, K0, L0, M_L0, S0, M_S0,\n",
    "                   lam2, mu2, K2, L2, M_L2, S2, M_S2):\n",
    "    \n",
    "    rme = getSU3rme(lam1, mu1, S1, lam0, mu0, S0, lam2, mu2, S2)\n",
    "    SO3Coeff = float(CG(j1=L2, m1=M_L2, j2=L0, m2=M_L0, j3=L1, m3=M_L1).doit())\n",
    "    SU2Coeff = float(CG(j1=L2, m1=M_L2, j2=L0, m2=M_L0, j3=L1, m3=M_L1).doit())\n",
    "    EdmundsFactor = 1/(np.sqrt(2*L1+1)*np.sqrt(2*S1+1))\n",
    "    \n",
    "    return rme*SO3Coeff*SU2Coeff*EdmundsFactor"
   ]
  },
  {
   "cell_type": "code",
   "execution_count": null,
   "id": "ab073ed0",
   "metadata": {},
   "outputs": [],
   "source": []
  },
  {
   "cell_type": "code",
   "execution_count": null,
   "id": "fbf5d7e0",
   "metadata": {},
   "outputs": [],
   "source": []
  },
  {
   "cell_type": "code",
   "execution_count": null,
   "id": "e81b3ae3",
   "metadata": {},
   "outputs": [],
   "source": []
  },
  {
   "cell_type": "code",
   "execution_count": null,
   "id": "9f48958a",
   "metadata": {},
   "outputs": [],
   "source": []
  },
  {
   "cell_type": "code",
   "execution_count": null,
   "id": "92b2eec8",
   "metadata": {},
   "outputs": [],
   "source": []
  },
  {
   "cell_type": "code",
   "execution_count": null,
   "id": "85e6903c",
   "metadata": {},
   "outputs": [],
   "source": []
  },
  {
   "cell_type": "code",
   "execution_count": null,
   "id": "8754fae9",
   "metadata": {},
   "outputs": [],
   "source": []
  },
  {
   "cell_type": "code",
   "execution_count": null,
   "id": "c4a0a683",
   "metadata": {},
   "outputs": [],
   "source": []
  },
  {
   "cell_type": "code",
   "execution_count": null,
   "id": "026b6c80",
   "metadata": {},
   "outputs": [],
   "source": []
  },
  {
   "cell_type": "code",
   "execution_count": null,
   "id": "74d0a6bc",
   "metadata": {},
   "outputs": [],
   "source": []
  }
 ],
 "metadata": {
  "kernelspec": {
   "display_name": "Python 3 (ipykernel)",
   "language": "python",
   "name": "python3"
  },
  "language_info": {
   "codemirror_mode": {
    "name": "ipython",
    "version": 3
   },
   "file_extension": ".py",
   "mimetype": "text/x-python",
   "name": "python",
   "nbconvert_exporter": "python",
   "pygments_lexer": "ipython3",
   "version": "3.9.12"
  }
 },
 "nbformat": 4,
 "nbformat_minor": 5
}
