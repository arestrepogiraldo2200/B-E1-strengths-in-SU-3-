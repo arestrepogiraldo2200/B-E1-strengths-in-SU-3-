{
 "cells": [
  {
   "cell_type": "markdown",
   "id": "7e572610",
   "metadata": {},
   "source": [
    "$$ _{\\rho_1}\\Big\\langle[f'_{-}]\\otimes[f'_{+}],\\hspace{1mm}(\\lambda'_{-}\\mu'_{-})\\otimes (\\lambda'_{+}\\mu'_{+}),(\\lambda'\\mu'),K',L',M_{L'},[\\bar{f}'_{-}]\\otimes[\\bar{f}'_{+}],S'_{-}\\otimes S'_{+},S',M_{S'}\\Big|\n",
    "\\\\\\times a^{\\dagger}_{(\\eta'0)l'm_{l'}\\frac{1}{2}m_{s'}}\\Big|[f''_{-}]\\otimes[f''_{+}],\\hspace{1mm}(\\lambda''_{-}\\mu''_{-})\\otimes (\\lambda''_{+}\\mu''_{+}),(\\lambda''\\mu''),K'',L'',M_{L''},[\\bar{f}''_{-}]\\otimes[\\bar{f}''_{+}],S''_{-}\\otimes S''_{+},S'',M_{S''}\\Big\\rangle_{\\rho_2}\n",
    "\\\\ = \\sum_{\\substack{K'_{-}, L'_{-},M_{L'_{-}},K'_{+}, L'_{+},M_{L'_{+}} \\\\ S'_{-},M_{S'_{-}},S'_{+},M_{S'_{+}} \\\\ K''_{-}, L''_{-},M_{L''_{-}},K''_{+}, L''_{+},M_{L''_{+}}} \\\\S''_{-},M_{S''_{-}},S''_{+},M_{S''_{+}}}\\langle(\\lambda'_{-}\\mu'_{-}),K'_{-}, L'_{-};(\\lambda'_{+}\\mu'_{+}), K'_{+}, L'_{+}||(\\lambda'\\mu'),K',L'\\rangle_{\\rho_1}\\langle L'_{-},M_{L'_{-}},L'_{+},M_{L'_{+}}|L',M_{L'}\\rangle\\langle S'_{-},M_{S'_{-}},S'_{+},M_{S'_{+}}|S',M_{S'}\\rangle\n",
    "\\\\ \\times\\langle(\\lambda''_{-}\\mu''_{-}),K''_{-}, L''_{-};(\\lambda''_{+}\\mu''_{+}), K''_{+}, L''_{+}||(\\lambda''\\mu''),K'',L''\\rangle_{\\rho_2}\\langle L''_{-},M_{L''_{-}},L''_{+},M_{L''_{+}}|L'',M_{L''}\\rangle\\langle S''_{-},M_{S''_{-}},S''_{+},M_{S''_{+}}|S'',M_{S''}\\rangle\n",
    "\\\\\\times\\Bigg(\\Big\\langle[f'_{-}], (\\lambda'_{-}\\mu'_{-}), K'_{-}, L'_{-}, M_{L'_{-}}, [\\bar{f}'_{-}], S'_{-}, M_{S'_{-}} \\Big| \\otimes  \\Big\\langle [f'_{+}], (\\lambda'_{+}\\mu'_{+}), K'_{+}, L'_{+}, M_{L'_{+}}, [\\bar{f}'_{+}], S'_{+}, M_{S'_{+}} \\Big|\\Bigg)\n",
    "\\\\\\times a^{\\dagger}_{(\\eta'0)l'm_{l'}\\frac{1}{2}m_{s'}}\n",
    "\\Bigg(\\Big|[f''_{-}], (\\lambda''_{-}\\mu''_{-}), K''_{-}, L''_{-}, M_{L''_{-}}, [\\bar{f}''_{-}], S''_{-}, M_{S''_{-}}\\Big\\rangle  \\otimes  \\Big| [f''_{+}], (\\lambda''_{+}\\mu''_{+}), K''_{+}, L''_{+}, M_{L''_{+}}, [\\bar{f}''_{+}], S''_{+}, M_{S''_{+}}\\Big\\rangle \\Bigg)\n",
    "\\\\ = \\langle(\\lambda''\\mu''),K'', L'';(\\eta',0), 0, l'||(\\lambda'\\mu'),K',L'\\rangle_{\\rho=1}\\frac{\\langle L'',M_{L''},l',m_{l'}|L',M_{L'}\\rangle\\langle S'',M_{S''},\\frac{1}{2},m_{s'}|S',M_{S'}\\rangle}{\\sqrt{(2L'+1)(2S'+1)}}\\\\\\Big\\langle[f'_{-}]\\otimes[f'_{+}],\\hspace{1mm}(\\lambda'_{-}\\mu'_{-})\\otimes (\\lambda'_{+}\\mu'_{+}),(\\lambda'\\mu'),S'\\Big|\\Big|\\Big|a^{\\dagger}_{(\\eta',0)\\frac{1}{2}}\\Big|\\Big|\\Big|[f''_{-}]\\otimes[f''_{+}],\\hspace{1mm}(\\lambda''_{-}\\mu''_{-})\\otimes (\\lambda''_{+}\\mu''_{+}),(\\lambda''\\mu''),S''\\Big\\rangle_{\\rho=1}$$\n",
    "\n",
    "For the following particular case\n",
    "\n",
    "$$_{\\rho_1}\\Big\\langle[2^3,1]\\otimes[1],\\hspace{1mm}(25,2)\\otimes (6,0),(31,2),K',L',M_{L'},[4,3]\\otimes[1],\\frac{1}{2}\\otimes \\frac{1}{2},0,0\\Big|\\\\\\times a^{\\dagger}_{(6,0)l'm_{l'}\\frac{1}{2}m_{s'}}\\Big|[2^3,1]\\otimes[0],\\hspace{1mm}(25,2)\\otimes (0,0),(25,2),K'',L'',M_{L''},[4,3]\\otimes[0],\\frac{1}{2}\\otimes 0,\\frac{1}{2},M_{S''}\\Big\\rangle_{\\rho_2}\n",
    "\\\\ = \\sum_{\\substack{K'_{-}, L'_{-},M_{L'_{-}},K'_{+}, L'_{+},M_{L'_{+}} \\\\ S'_{-},M_{S'_{-}},S'_{+},M_{S'_{+}} \\\\ K''_{-}, L''_{-},M_{L''_{-}},K''_{+}, L''_{+},M_{L''_{+}}} \\\\S''_{-},M_{S''_{-}},S''_{+},M_{S''_{+}}}\\langle(25,2),K'_{-}, L'_{-};(6,0), K'_{+}, L'_{+}||(31,2),K',L'\\rangle_{\\rho_1}\\langle L'_{-},M_{L'_{-}},L'_{+},M_{L'_{+}}|L',M_{L'}\\rangle\\langle \\frac{1}{2},M_{S'_{-}},\\frac{1}{2},M_{S'_{+}}|0,0\\rangle\n",
    "\\\\ \\times\\langle(25,2),K''_{-}, L''_{-};(0,0), K''_{+}, L''_{+}||(25,2),K'',L''\\rangle_{\\rho_2}\\langle L''_{-},M_{L''_{-}},L''_{+},M_{L''_{+}}|L'',M_{L''}\\rangle\\langle \\frac{1}{2},M_{S''_{-}},0,0|\\frac{1}{2},M_{S''}\\rangle\n",
    "\\\\\\times\\Big\\langle [1], (6,0), K'_{+}, L'_{+}, M_{L'_{+}}, [1], \\frac{1}{2}, M_{S'_{+}} \\Big|\n",
    " a^{\\dagger}_{(6,0)l'm_{l'}\\frac{1}{2}m_{s'}}\n",
    "\\Big| [0], (0,0), 0, 0,0, [0], 0, 0\\Big\\rangle \n",
    "\\\\\n",
    "\\\\ = \\sum_{\\substack{K'_{-}, L'_{-},M_{L'_{-}},K'_{+}, L'_{+},M_{L'_{+}}}}\\langle(25,2),K'_{-}, L'_{-};(6,0), 0, l'||(31,2),K',L'\\rangle_{\\rho_1}\\langle L'_{-},M_{L'_{-}},l',m_{l'}|L',M_{L'}\\rangle\\frac{(-1)}{\\sqrt{2}}\n",
    "\\\\ \\times\\langle(25,2),K'', L'';(0,0), 0,0||(25,2),K'',L''\\rangle_{\\rho_2}\\langle L'',M_{L''},0,0|L'',M_{L''}\\rangle\\frac{1}{\\sqrt{2}\\sqrt{2l'+1}}\n",
    "\\\\\n",
    "\\\\ = \\sum_{\\substack{K'_{-}, L'_{-},M_{L'_{-}}, l',m_{l'}}}\\langle(25,2),K'_{-}, L'_{-};(6,0), 0, l'||(31,2),K',L'\\rangle_{\\rho_1}\\langle L'_{-},M_{L'_{-}},l',m_{l'}|L',M_{L'}\\rangle\\frac{(-1)}{\\sqrt{2}}\n",
    "\\frac{1}{\\sqrt{2}\\sqrt{2l'+1}}\n",
    "$$\n",
    "\n",
    "\n",
    "Apply Wigner-Eckart theorem in the left hand side\n",
    "\n",
    "\n",
    "$$\n",
    "\\\\ = \\langle(25,2),K'', L'';(6,0), 0, l'||(31,2),K',L'\\rangle_{\\rho=1}\\frac{\\langle L'',M_{L''},l',m_{l'}|L',M_{L'}\\rangle}{\\sqrt{2L'+1}}\\frac{(-1)}{\\sqrt{2}}\\\\\\Big\\langle[2^3,1]\\otimes[1],\\hspace{1mm}(25,2)\\otimes (6,0),(31,2),0\\Big|\\Big|\\Big|a^{\\dagger}_{(6,0)\\frac{1}{2}}\\Big|\\Big|\\Big|[2^3,1]\\otimes[0],\\hspace{1mm}(25,2)\\otimes (0,0),(25,2),\\frac{1}{2}\\Big\\rangle_{\\rho=1}\n",
    "\\\\\n",
    "$$\n",
    "\n",
    "Simplification and solving for the rme\n",
    "\n",
    "$$\n",
    "\\Big\\langle[2^3,1]\\otimes[1],\\hspace{1mm}(25,2)\\otimes (6,0),(31,2),0\\Big|\\Big|\\Big|a^{\\dagger}_{(6,0)\\frac{1}{2}}\\Big|\\Big|\\Big|[2^3,1]\\otimes[0],\\hspace{1mm}(25,2)\\otimes (0,0),(25,2),\\frac{1}{2}\\Big\\rangle_{\\rho=1} = \n",
    "\\frac{\\sum_{\\substack{K'_{-}, L'_{-},M_{L'_{-}}, l',m_{l'}}}\\langle(25,2),K'_{-}, L'_{-};(6,0), 0, l'||(31,2),K',L'\\rangle_{\\rho_1}\\langle L'_{-},M_{L'_{-}},l',m_{l'}|L',M_{L'}\\rangle\\frac{1}{\\sqrt{2}\\sqrt{2l'+1}}}\n",
    "{\\langle(25,2),K'', L'';(6,0), 0, l'||(31,2),K',L'\\rangle_{\\rho=1}\\frac{\\langle L'',M_{L''},l',m_{l'}|L',M_{L'}\\rangle}{\\sqrt{2L'+1}}}\n",
    "$$\n",
    "\n",
    "Choose particular values for $K', L', M_{L'}, K'', L'', M_{L''}, l', m_{l'}$. \n"
   ]
  },
  {
   "cell_type": "code",
   "execution_count": null,
   "id": "eb3d34c2",
   "metadata": {},
   "outputs": [],
   "source": []
  },
  {
   "cell_type": "code",
   "execution_count": null,
   "id": "f864fdce",
   "metadata": {},
   "outputs": [],
   "source": []
  },
  {
   "cell_type": "code",
   "execution_count": null,
   "id": "6570e7a9",
   "metadata": {},
   "outputs": [],
   "source": []
  },
  {
   "cell_type": "code",
   "execution_count": null,
   "id": "f9ab91fe",
   "metadata": {},
   "outputs": [],
   "source": []
  },
  {
   "cell_type": "code",
   "execution_count": null,
   "id": "a5ccd0e6",
   "metadata": {},
   "outputs": [],
   "source": []
  }
 ],
 "metadata": {
  "kernelspec": {
   "display_name": "Python 3 (ipykernel)",
   "language": "python",
   "name": "python3"
  },
  "language_info": {
   "codemirror_mode": {
    "name": "ipython",
    "version": 3
   },
   "file_extension": ".py",
   "mimetype": "text/x-python",
   "name": "python",
   "nbconvert_exporter": "python",
   "pygments_lexer": "ipython3",
   "version": "3.9.12"
  }
 },
 "nbformat": 4,
 "nbformat_minor": 5
}
