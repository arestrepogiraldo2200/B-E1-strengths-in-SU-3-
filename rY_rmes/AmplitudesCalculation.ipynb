{
 "cells": [
  {
   "cell_type": "code",
   "execution_count": null,
   "id": "05ded711",
   "metadata": {},
   "outputs": [],
   "source": []
  },
  {
   "cell_type": "code",
   "execution_count": null,
   "id": "cbb3eb65",
   "metadata": {},
   "outputs": [],
   "source": [
    "\"\"\"\n",
    "L    Eth        Eexp\n",
    "0   , 0.0   , 0.0\n",
    "1   , 0.1767   , 0.251\n",
    "2   , 0.05232   , 0.0981\n",
    "3   , 0.26389   , 0.3053\n",
    "4   , 0.17439   , 0.2841\n",
    "5   , 0.42084   , 0.4645\n",
    "6   , 0.36622   , 0.5347\n",
    "7   , 0.64755   , 0.6995\n",
    "8   , 0.62781   , 0.8339\n",
    "9   , 0.94402   , 0.9977\n",
    "10   , 0.95916   , 1.1738\n",
    "11   , 1.31025   , 1.3473\n",
    "12   , 1.36026   , 1.5498\n",
    "13   , 1.74623   , 1.7387\n",
    "14   , 1.83112   , 1.9589\n",
    "15   , 2.25196   , 2.1647\n",
    "16   , 2.37173   , 2.398\n",
    "17   , 2.82746   , 2.6202\n",
    "18   , 2.98211   , 2.864\n",
    "\"\"\""
   ]
  },
  {
   "cell_type": "code",
   "execution_count": null,
   "id": "95034bcb",
   "metadata": {},
   "outputs": [],
   "source": []
  },
  {
   "cell_type": "code",
   "execution_count": null,
   "id": "f55b9ce7",
   "metadata": {},
   "outputs": [],
   "source": []
  }
 ],
 "metadata": {
  "kernelspec": {
   "display_name": "Python 3 (ipykernel)",
   "language": "python",
   "name": "python3"
  },
  "language_info": {
   "codemirror_mode": {
    "name": "ipython",
    "version": 3
   },
   "file_extension": ".py",
   "mimetype": "text/x-python",
   "name": "python",
   "nbconvert_exporter": "python",
   "pygments_lexer": "ipython3",
   "version": "3.9.12"
  }
 },
 "nbformat": 4,
 "nbformat_minor": 5
}
