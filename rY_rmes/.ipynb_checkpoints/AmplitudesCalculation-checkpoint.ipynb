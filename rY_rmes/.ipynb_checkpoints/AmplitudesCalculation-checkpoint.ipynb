{
 "cells": [
  {
   "cell_type": "markdown",
   "id": "d4646517",
   "metadata": {},
   "source": [
    "# Number operator \n",
    "\n",
    "The number operator is defined for a single shell as \n",
    "\n",
    "$$ \n",
    "n^{(0,0),K=0,L=0,S=0} = \\sum_{l,m_l,m_s}a^{\\dagger}_{(\\eta,0),l,m_l,\\frac{1}{2},m_s}a_{(\\eta,0),l,m_l,\\frac{1}{2},m_s}\n",
    "= \n",
    "$$"
   ]
  },
  {
   "cell_type": "code",
   "execution_count": null,
   "id": "983820ad",
   "metadata": {},
   "outputs": [],
   "source": []
  },
  {
   "cell_type": "code",
   "execution_count": null,
   "id": "b530f9ec",
   "metadata": {},
   "outputs": [],
   "source": []
  },
  {
   "cell_type": "code",
   "execution_count": null,
   "id": "a0ecbb36",
   "metadata": {},
   "outputs": [],
   "source": []
  },
  {
   "cell_type": "code",
   "execution_count": null,
   "id": "eb1447f5",
   "metadata": {},
   "outputs": [],
   "source": []
  },
  {
   "cell_type": "code",
   "execution_count": null,
   "id": "fc83c78e",
   "metadata": {},
   "outputs": [],
   "source": []
  },
  {
   "cell_type": "code",
   "execution_count": null,
   "id": "b0d06f70",
   "metadata": {},
   "outputs": [],
   "source": []
  },
  {
   "cell_type": "code",
   "execution_count": null,
   "id": "da6398f4",
   "metadata": {},
   "outputs": [],
   "source": []
  },
  {
   "cell_type": "code",
   "execution_count": null,
   "id": "81973dd4",
   "metadata": {},
   "outputs": [],
   "source": []
  },
  {
   "cell_type": "code",
   "execution_count": null,
   "id": "3d7663e4",
   "metadata": {},
   "outputs": [],
   "source": []
  },
  {
   "cell_type": "code",
   "execution_count": null,
   "id": "41924d81",
   "metadata": {},
   "outputs": [],
   "source": []
  },
  {
   "cell_type": "code",
   "execution_count": null,
   "id": "3e996f70",
   "metadata": {},
   "outputs": [],
   "source": []
  },
  {
   "cell_type": "code",
   "execution_count": null,
   "id": "cbb3eb65",
   "metadata": {},
   "outputs": [],
   "source": [
    "\"\"\"\n",
    "L    Eth        Eexp\n",
    "0   , 0.0   , 0.0\n",
    "1   , 0.1767   , 0.251\n",
    "2   , 0.05232   , 0.0981\n",
    "3   , 0.26389   , 0.3053\n",
    "4   , 0.17439   , 0.2841\n",
    "5   , 0.42084   , 0.4645\n",
    "6   , 0.36622   , 0.5347\n",
    "7   , 0.64755   , 0.6995\n",
    "8   , 0.62781   , 0.8339\n",
    "9   , 0.94402   , 0.9977\n",
    "10   , 0.95916   , 1.1738\n",
    "11   , 1.31025   , 1.3473\n",
    "12   , 1.36026   , 1.5498\n",
    "13   , 1.74623   , 1.7387\n",
    "14   , 1.83112   , 1.9589\n",
    "15   , 2.25196   , 2.1647\n",
    "16   , 2.37173   , 2.398\n",
    "17   , 2.82746   , 2.6202\n",
    "18   , 2.98211   , 2.864\n",
    "\"\"\""
   ]
  }
 ],
 "metadata": {
  "kernelspec": {
   "display_name": "Python 3 (ipykernel)",
   "language": "python",
   "name": "python3"
  },
  "language_info": {
   "codemirror_mode": {
    "name": "ipython",
    "version": 3
   },
   "file_extension": ".py",
   "mimetype": "text/x-python",
   "name": "python",
   "nbconvert_exporter": "python",
   "pygments_lexer": "ipython3",
   "version": "3.9.12"
  }
 },
 "nbformat": 4,
 "nbformat_minor": 5
}
