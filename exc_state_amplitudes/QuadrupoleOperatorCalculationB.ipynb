{
 "cells": [
  {
   "cell_type": "markdown",
   "id": "68da2b96",
   "metadata": {},
   "source": [
    "# Quadrupole Operator calculation\n",
    "\n",
    "The general form of a state in this model is\n",
    "\n",
    "$$\\Bigg|\\hspace{1mm}\\Big([f]_{\\pi-}\\otimes[f]_{\\pi+}\\Big)\\otimes\\Big([f]_{\\nu-}\\otimes[f]_{\\nu+}\\Big),\\hspace{1mm}\\Big((\\lambda_{\\pi-},\\mu_{\\pi-})\\otimes(\\lambda_{\\pi+},\\mu_{\\pi+})\\Big)\\otimes\\Big((\\lambda_{\\nu-},\\mu_{\\nu-})\\otimes(\\lambda_{\\nu+},\\mu_{\\nu+})\\Big),\\\\\\hspace{1mm}(\\lambda_{\\pi},\\mu_{\\pi})\\otimes (\\lambda_{\\nu},\\mu_{\\nu}),\\hspace{1mm}\\rho(\\lambda,\\mu),K,L;\\hspace{1mm}J=L,M\\Bigg> $$\n",
    "\n",
    "The excited state has two contributions from the excitations of proton and neutron to their corresponding contiguous upper shells as\n",
    "\n",
    "$$|\\Phi(J^{\\Pi})_{ex.}\\rangle = \\sqrt{\\beta}|\\Psi_{ex.}^{\\pi}(J^{\\Pi})\\rangle + \\sqrt{1-\\beta}|\\Psi_{ex.}^{\\nu}(J^{\\Pi})\\rangle$$\n",
    "\n",
    "where\n",
    "\n",
    "$$|\\Psi_{ex.}^{\\pi}(J^{\\Pi})\\rangle=\\Bigg|\\hspace{1mm}\\Big([2^{I-1},1]_{\\pi}\\otimes[1]_{\\pi}\\Big)\\otimes\\Big([2^{I}]_{\\nu-}\\otimes [0]_{\\nu+}\\Big),\\hspace{1mm}\\Big((\\lambda_{\\pi-},\\mu_{\\pi-})\\otimes(\\lambda_{\\pi+},\\mu_{\\pi+})\\Big)\\otimes\\Big((\\lambda_{\\nu-},\\mu_{\\nu-})\\otimes(0,0)_{\\nu+}\\Big),\\hspace{1mm}\\\\(\\lambda_{\\pi},\\mu_{\\pi})\\otimes (\\lambda_{\\nu},\\mu_{\\nu}),\\hspace{1mm}\\rho(\\lambda,\\mu),K,L;\\hspace{1mm}J=L,M\\Bigg> $$\n",
    "\n",
    "and \n",
    "\n",
    "$$|\\Psi_{ex.}^{\\nu}(J^{\\Pi})\\rangle=\\Bigg|\\hspace{1mm}\\Big([2^{I}]_{\\pi-}\\otimes[0]_{\\pi+}\\Big)\\otimes\\Big([2^{I-1},1]_{\\nu}\\otimes [1]_{\\nu}\\Big),\\hspace{1mm}\\Big(\n",
    "(\\lambda_{\\pi-},\\mu_{\\pi-})\\otimes(0,0)_{\\pi+}\\Big)\\otimes\\Big((\\lambda_{\\nu-},\\mu_{\\nu-})\\otimes(\\lambda_{\\nu+},\\mu_{\\nu+})\\Big),\\\\\\hspace{1mm}(\\lambda_{\\pi},\\mu_{\\pi})\\otimes (\\lambda_{\\nu},\\mu_{\\nu}),\\hspace{1mm}\\rho(\\lambda,\\mu),K,L;\\hspace{1mm}J=L,M\\Bigg> $$\n",
    "\n",
    "The amplitude $\\beta$ must be determined. A method is shown here.\n",
    "\n",
    "\n",
    "## Quadrupole operator \n",
    "\n",
    "The total quadrupole operator is \n",
    "\n",
    "$$Q^{2}_{\\mu} = Q^{2}_{\\mu, \\pi} + Q^{2}_{\\mu, \\nu} =  Q^{2}_{\\mu, \\pi-}+  Q^{2}_{\\mu, \\pi+} + Q^{2}_{\\mu, \\nu-} + Q^{2}_{\\mu, \\nu+}$$\n",
    "\n",
    "\n",
    "Then, the total quadrupole transition operator is given by\n",
    "\n",
    "$$\n",
    "T^{2}_{\\mu}(E)= b^2_0\\Big(e_{\\pi}Q^{2}_{\\mu, \\pi-}+  e_{\\pi}Q^{2}_{\\mu, \\pi+} + e_{\\nu}Q^{2}_{\\mu, \\nu-} + e_{\\nu}Q^{2}_{\\mu, \\nu+}\\Big) = b^2_0\\sum_{\\substack{\\sigma=\\pi,\\nu\\\\s=+,-}}e_{\\sigma}Q^{2}_{\\mu, \\sigma s}\n",
    "$$\n",
    "\n",
    "its corresponding reduced matrix element (r.m.e) is\n",
    "\n",
    "$$\n",
    "\\langle\\Phi(J^{\\Pi})_{ex.}||T^{2}(E)||\\Phi(J^{\\Pi})_{ex.}\\rangle= b^2_0\\sum_{\\substack{\\sigma=\\pi,\\nu\\\\s=+,-}}e_{\\sigma}\\Bigg(  \n",
    "\\langle\\Psi_{ex.}^{\\pi}(J^{\\Pi}) || Q^{2}_{\\sigma s} || \\Psi_{ex.}^{\\pi}(J^{\\Pi})\\rangle\n",
    "+\\langle\\Psi_{ex.}^{\\nu}(J^{\\Pi})|| Q^{2}_{\\sigma s} ||\\Psi_{ex.}^{\\nu}(J^{\\Pi})\\rangle\n",
    "\\Bigg)\n",
    "$$\n",
    "\n",
    "The quadrupole reduced matrix element is\n",
    "\n",
    "$$\\Bigg\\langle\\hspace{1mm}\\Big([f]_{\\pi-}\\otimes[f]_{\\pi+}\\Big)\\otimes\\Big([f]_{\\nu-}\\otimes[f]_{\\nu+}\\Big),\\hspace{1mm}\\Big((\\lambda_{\\pi-},\\mu_{\\pi-})\\otimes(\\lambda_{\\pi+},\\mu_{\\pi+})\\Big)\\otimes\\Big((\\lambda_{\\nu-},\\mu_{\\nu-})\\otimes(\\lambda_{\\nu+},\\mu_{\\nu+})\\Big),\\\\\\hspace{1mm}(\\lambda_{\\pi},\\mu_{\\pi})\\otimes (\\lambda_{\\nu},\\mu_{\\nu}),\\hspace{1mm}\\rho(\\lambda,\\mu),K,L';\\hspace{1mm}J'=L'\\Bigg|\\Bigg| Q^{(11),2}_{\\sigma s} \n",
    "\\Bigg|\\Bigg|\\hspace{1mm}\\Big([f]_{\\pi-}\\otimes[f]_{\\pi+}\\Big)\\otimes\\Big([f]_{\\nu-}\\otimes[f]_{\\nu+}\\Big),\\hspace{1mm}\\Big((\\lambda_{\\pi-},\\mu_{\\pi-})\\otimes(\\lambda_{\\pi+},\\mu_{\\pi+})\\Big)\\otimes\\Big((\\lambda_{\\nu-},\\mu_{\\nu-})\\otimes(\\lambda_{\\nu+},\\mu_{\\nu+})\\Big),\\hspace{1mm}(\\lambda_{\\pi},\\mu_{\\pi})\\otimes (\\lambda_{\\nu},\\mu_{\\nu}),\\hspace{1mm}\\rho(\\lambda,\\mu),K,L;\\hspace{1mm}J=L\\Bigg\\rangle\\\\\n",
    "= \\sum_{\\substack{\\bar{\\rho}\\rho_{\\pi}\\rho_{\\nu}}}\\langle(\\lambda,\\mu)KL; (11)2||(\\lambda,\\mu)KL'\\rangle_{\\bar{\\rho}}\n",
    "\\begin{Bmatrix}\n",
    "(\\lambda_{\\pi},\\mu_{\\pi}) & (x,y) & (\\lambda_{\\pi},\\mu_{\\pi}) & \\rho_\\pi\\\\\n",
    "(\\lambda_{\\nu},\\mu_{\\nu}) & (x',y') & (\\lambda_{\\nu},\\mu_{\\nu}) & \\rho_\\nu\\\\\n",
    "(\\lambda,\\mu) & (1,1) & (\\lambda,\\mu) & \\bar{\\rho}\\\\\n",
    "1 & 1 & 1 &\n",
    "\\end{Bmatrix}\n",
    "\\\\\\times\\langle (\\lambda_{\\sigma-},\\mu_{\\sigma-})\\otimes(\\lambda_{\\sigma+},\\mu_{\\sigma+}), (\\lambda_{\\sigma},\\mu_{\\sigma}), S_{\\sigma-}\\otimes S_{\\sigma+},  S_{\\sigma}|||Q^{(11)}_{\\sigma s} |||(\\lambda_{\\sigma-},\\mu_{\\sigma-})\\otimes(\\lambda_{\\sigma+},\\mu_{\\sigma+}), (\\lambda_{\\sigma},\\mu_{\\sigma}), S_{\\sigma-}\\otimes S_{\\sigma+},  S_{\\sigma}\\rangle\n",
    "$$\n",
    "\n",
    "Replacing this expression\n",
    "\n",
    "$$\n",
    "\\langle\\Phi(J^{\\Pi}=3^-)_{ex.}||T^{2}(E)||\\Phi(J^{\\Pi}=1^-)_{ex.}\\rangle = \\sum_{\\substack{\\sigma=\\pi,\\nu\\\\s=+,-}}e_{\\sigma}b^2_0\\Bigg(\\beta\\langle\\Psi_{ex.}^{\\pi}(J^{\\Pi}=3^-)||\\mathcal{Q}^{2}_{\\sigma s}||\\Psi_{ex.}^{\\pi}(J^{\\Pi}=1^-)\\rangle + (1-\\beta)\\langle\\Psi_{ex.}^{\\nu}(J^{\\Pi}=3^-)||\\mathcal{Q}^{2}_{\\sigma s}||\\Psi_{ex.}^{\\nu}(J^{\\Pi}=1^-)\\rangle \\Bigg) \n",
    "\\\\= \\sum_{\\substack{\\sigma=\\pi,\\nu\\\\s=+,-}}e_{\\sigma}b^2_0\\Bigg(\n",
    "\\beta\\sum_{\\substack{\\bar{\\rho}\\rho_{\\pi}\\rho_{\\nu}}}\\langle(65,6)01; (11)2||(65,6)03\\rangle_{\\bar{\\rho}}\n",
    "\\begin{Bmatrix}\n",
    "(31,2) & (x,y) & (31,2) & \\rho_\\pi\\\\\n",
    "(34,4) & (x',y') & (34,4) & \\rho_\\nu\\\\\n",
    "(65,6) & (1,1) & (65,6) & \\bar{\\rho}\\\\\n",
    "1 & 1 & 1 &\n",
    "\\end{Bmatrix}\n",
    "\\langle\\Psi_{ex.}^{\\pi}(J^{\\Pi}=3^-)|||\\mathcal{Q}^{2}_{\\sigma s}|||\\Psi_{ex.}^{\\pi}(J^{\\Pi}=1^-)\\rangle\n",
    "\\\\+ (1-\\beta)\\sum_{\\substack{\\bar{\\rho}\\rho_{\\pi}\\rho_{\\nu}}}\\langle(65,6)01; (11)2||(65,6)03\\rangle_{\\bar{\\rho}}\n",
    "\\begin{Bmatrix}\n",
    "(26,4) & (x,y) & (26,4) & \\rho_\\pi\\\\\n",
    "(39,2) & (x',y') & (39,2) & \\rho_\\nu\\\\\n",
    "(65,6) & (1,1) & (65,6) & \\bar{\\rho}\\\\\n",
    "1 & 1 & 1 &\n",
    "\\end{Bmatrix}\n",
    "\\langle\\Psi_{ex.}^{\\nu}(J^{\\Pi}=3^-)|||\\mathcal{Q}^{2}_{\\sigma s}|||\\Psi_{ex.}^{\\nu}(J^{\\Pi}=1^-)\\rangle\\Bigg)\n",
    "\\\\= \\sum_{\\substack{\\sigma=\\pi,\\nu\\\\s=+,-}}e_{\\sigma}b^2_0 \n",
    "\\Bigg(\n",
    "\\beta\\sum_{\\substack{\\bar{\\rho},\\rho_{\\pi}\\rho_{\\nu}}}\n",
    "\\langle(65,6)01; (11)2||(65,6)03\\rangle_{\\bar{\\rho}}\n",
    "\\begin{Bmatrix}\n",
    "(31,2) & (x,y) & (31,2) & \\rho_\\pi\\\\\n",
    "(34,4) & (x',y') & (34,4) & \\rho_\\nu\\\\\n",
    "(65,6) & (1,1) & (65,6) & \\bar{\\rho}\\\\\n",
    "1 & 1 & 1 &\n",
    "\\end{Bmatrix}\n",
    "\\langle\\Psi_{ex.}^{\\pi}(J^{\\Pi}=3^-)|||\\mathcal{Q}^{2}_{\\sigma s}|||\\Psi_{ex.}^{\\pi}(J^{\\Pi}=1^-)\\rangle\n",
    "\\\\+ (1-\\beta)\\sum_{\\substack{\\bar{\\rho},\\rho_{\\pi}\\rho_{\\nu}}}\n",
    "\\langle(65,6)01; (11)2||(65,6)03\\rangle_{\\bar{\\rho}}\n",
    "\\begin{Bmatrix}\n",
    "(26,4) & (x,y) & (26,4) & \\rho_\\pi\\\\\n",
    "(39,2) & (x',y') & (39,2) & \\rho_\\nu\\\\\n",
    "(65,6) & (1,1) & (65,6) & \\bar{\\rho}\\\\\n",
    "1 & 1 & 1 &\n",
    "\\end{Bmatrix}\n",
    "\\langle\\Psi_{ex.}^{\\nu}(J^{\\Pi}=3^-)|||\\mathcal{Q}^{2}_{\\sigma s}|||\\Psi_{ex.}^{\\nu}(J^{\\Pi}=1^-)\\rangle\\Bigg)\n",
    "$$\n",
    "\n",
    "where \n",
    "\n",
    "$$\n",
    "\\begin{cases} \n",
    "      (x,y)=(1,1),(x',y')=(0,0) & \\sigma=\\pi\\\\\n",
    "      (x,y)=(0,0),(x',y')=(1,1) & \\sigma=\\nu\n",
    "   \\end{cases}\n",
    "$$\n",
    "\n",
    "\n",
    "\n",
    "\n",
    "The effective charges are\n",
    "\n",
    "$$\n",
    "e_{\\nu} =  0.0017936862244897957e\\\\\n",
    "e_{\\pi} =  0.9928651147959183e\n",
    "$$\n",
    "\n",
    "we have for the $SU(3)$ coefficients\n",
    "```\n",
    "==================================================================================\n",
    "```\n",
    "```\n",
    "<(lm1 mu1) k1 L1; (lm2 mu2) k2 L2 || (lm3 mu3) k3 L3> rho = 1 ... 2\n",
    "  65  6     1 1     1  1     1 2      65  6     1 3  -0.50504751   0.04307178\n",
    "            1 1              1 2                2 3  -0.03182046  -0.37654365\n",
    "\n",
    "```\n",
    "```\n",
    "==================================================================================\n",
    "```\n",
    "```\n",
    "(26 4)  (1 1)  (26 4)   rho12\n",
    "(39 2)  (0 0)  (39 2)   rho34\n",
    "(65 6)  (1 1)  (65 6)   rho1324\n",
    "rho13  rho24  rho1234\n",
    "\n",
    " rho1324   rho24   rho13 rho1234   rho34   rho12\n",
    "    0       0       0       0       0       0     0.96920207\n",
    "    0       0       0       0       0       1    -0.05662691\n",
    "    1       0       0       0       0       0     0.05156441\n",
    "    1       0       0       0       0       1     0.93211575\n",
    "```\n",
    "```\n",
    "==================================================================================\n",
    "```\n",
    "```\n",
    "(26 4)  (0 0)  (26 4)   rho12\n",
    "(39 2)  (1 1)  (39 2)   rho34\n",
    "(65 6)  (1 1)  (65 6)   rho1324\n",
    "rho13  rho24  rho1234\n",
    "\n",
    " rho1324   rho24   rho13 rho1234   rho34   rho12\n",
    "    0       0       0       0       0       0     0.98431101\n",
    "    0       0       0       0       1       0     0.01208338\n",
    "    1       0       0       0       0       0    -0.03694422\n",
    "    1       0       0       0       1       0     0.81310920\n",
    "\n",
    "```\n",
    "```\n",
    "==================================================================================\n",
    "```\n",
    "```\n",
    "(31 2)  (1 1)  (31 2)   rho12\n",
    "(34 4)  (0 0)  (34 4)   rho34\n",
    "(65 6)  (1 1)  (65 6)   rho1324\n",
    "rho13  rho24  rho1234\n",
    "\n",
    " rho1324   rho24   rho13 rho1234   rho34   rho12\n",
    "    0       0       0       0       0       0     0.97595574\n",
    "    0       0       0       0       0       1    -0.00098587\n",
    "    1       0       0       0       0       0    -0.02462932\n",
    "    1       0       0       0       0       1     0.81111044\n",
    "\n",
    "```\n",
    "```\n",
    "==================================================================================\n",
    "```\n",
    "```\n",
    "(31 2)  (0 0)  (31 2)   rho12\n",
    "(34 4)  (1 1)  (34 4)   rho34\n",
    "(65 6)  (1 1)  (65 6)   rho1324\n",
    "rho13  rho24  rho1234\n",
    "\n",
    " rho1324   rho24   rho13 rho1234   rho34   rho12\n",
    "    0       0       0       0       0       0     0.98100930\n",
    "    0       0       0       0       1       0    -0.02905172\n",
    "    1       0       0       0       0       0     0.02191653\n",
    "    1       0       0       0       1       0     0.93693355\n",
    "\n",
    "```\n",
    "```\n",
    "==================================================================================\n",
    "```"
   ]
  },
  {
   "cell_type": "code",
   "execution_count": null,
   "id": "d22d028f",
   "metadata": {},
   "outputs": [],
   "source": []
  },
  {
   "cell_type": "code",
   "execution_count": null,
   "id": "8b9ce314",
   "metadata": {},
   "outputs": [],
   "source": []
  },
  {
   "cell_type": "markdown",
   "id": "982d3f1e",
   "metadata": {},
   "source": [
    "\n",
    "On the other hand it is known that \n",
    "\n",
    "$$\n",
    "B(E2; J_i\\rightarrow J_f) = \\frac{1}{2J_i+1} |\\langle\\Phi(J^{\\Pi}_f)_{ex.}||T^{2}(E)||\\Phi(J^{\\Pi}_i)_{ex.}\\rangle|^2\n",
    "$$\n",
    "\n",
    "and also\n",
    "\n",
    "$$\n",
    "B(E2; J_i\\rightarrow J_f) = \\frac{2J_f+1}{2J_i+1}\\alpha^2|\\langle(\\lambda,\\mu)KJ_i; (11)2||(\\lambda,\\mu)KJ_f\\rangle|^2C_{2}(\\lambda,\\mu)\n",
    "$$\n",
    "\n",
    "so that i can be derived\n",
    "\n",
    "$$\n",
    "\\langle\\Phi(J^{\\Pi}_f)_{ex.}||T^{2}(E)||\\Phi(J^{\\Pi}_i)_{ex.}\\rangle = \\sqrt{2J_f+1}\\sqrt{C_{2}(\\lambda,\\mu)}\\alpha|\\langle(\\lambda,\\mu)KJ_i; (11)2||(\\lambda,\\mu)KJ_f\\rangle|\n",
    "$$\n",
    "\n",
    "For the particular case of transition between $3⁻$ and $1⁻$\n",
    "\n",
    "$$\n",
    "\\langle\\Phi(3^-)_{ex.}||T^{2}(E)||\\Phi(1^-)_{ex.}\\rangle = \n",
    "$$\n",
    "\n"
   ]
  },
  {
   "cell_type": "code",
   "execution_count": 1,
   "id": "e553b5ef",
   "metadata": {},
   "outputs": [],
   "source": [
    "import numpy as np"
   ]
  },
  {
   "cell_type": "code",
   "execution_count": 2,
   "id": "5b58176d",
   "metadata": {},
   "outputs": [
    {
     "data": {
      "text/plain": [
       "8.115163242349622"
      ]
     },
     "execution_count": 2,
     "metadata": {},
     "output_type": "execute_result"
    }
   ],
   "source": [
    "# coefficient\n",
    "np.sqrt(7)*0.50504751*2.4643818583473065**2"
   ]
  },
  {
   "cell_type": "code",
   "execution_count": 3,
   "id": "98fcbc67",
   "metadata": {},
   "outputs": [],
   "source": [
    "# Order 2 casimir of SU(3)\n",
    "def C2(l,m):\n",
    "    return l**2 + m**2 + l*m + 3.0*(l+m)\n",
    "\n",
    "def effecN(L,Z,A):\n",
    "    return Z*(-1/A)**L\n",
    "\n",
    "def effecP(L,Z,A):\n",
    "    return ((A-1)**L+(-1)**L*(Z-1))/A**L"
   ]
  },
  {
   "cell_type": "code",
   "execution_count": 6,
   "id": "b4dc789a",
   "metadata": {},
   "outputs": [
    {
     "name": "stdout",
     "output_type": "stream",
     "text": [
      "\n",
      "|<3⁻||T²||1⁻>|² =  194.3641471457793   W.u.\n",
      "\n",
      "|<3⁻||T²||1⁻>|² =  7.853018685031066   e²b²\n",
      "\n",
      "<3⁻||T²||1⁻> =  2.802323800889374  eb =  280.23238008893736  efm²\n"
     ]
    }
   ],
   "source": [
    "# Parameters\n",
    "alpha2Wu = 0.02238\n",
    "coeffup = -0.44416453\n",
    "coeffdown = -0.99318207\n",
    "WeisskopfUnitBE2Up = 2.97*10**(-5)*224**(4/3)\n",
    "WeisskopfUnitBE2Down = 5.940*10**(-6)*224**(4/3)\n",
    "coeff31down = -0.77147281\n",
    "coeff31up = -0.50504751\n",
    "\n",
    "# alpha parameter in e²b² and e²fm⁴\n",
    "alpha2 = 96*WeisskopfUnitBE2Up/(coeffup**2*5*C2(60,8))\n",
    "#print(\"\\nα² = \",alpha2,\" e²b²  = \",alpha2*10**4, \" e²fm⁴\")\n",
    "\n",
    "T2 =(2*3+1)*(alpha2Wu)*(coeff31up**2)*(C2(65,6))\n",
    "# Reduced matrix element in W.u of the transition\n",
    "print(\"\\n|<3⁻||T²||1⁻>|² = \", T2 ,\"  W.u.\")\n",
    "print(\"\\n|<3⁻||T²||1⁻>|² = \", T2*WeisskopfUnitBE2Up ,\"  e²b²\")\n",
    "print(\"\\n<3⁻||T²||1⁻> = \", np.sqrt(T2*WeisskopfUnitBE2Up) ,\" eb = \", np.sqrt(T2*WeisskopfUnitBE2Up)*100, \" efm²\")"
   ]
  },
  {
   "cell_type": "code",
   "execution_count": 22,
   "id": "ab2d184b",
   "metadata": {},
   "outputs": [
    {
     "name": "stdout",
     "output_type": "stream",
     "text": [
      "e_ν =  0.0017936862244897957\n",
      "e_π =  0.9928651147959183\n"
     ]
    }
   ],
   "source": [
    "en = effecN(2,90,224)\n",
    "ep = effecP(2,90,224)\n",
    "\n",
    "print(\"e_ν = \", en)\n",
    "print(\"e_π = \", ep)"
   ]
  },
  {
   "cell_type": "code",
   "execution_count": 24,
   "id": "bc59adb9",
   "metadata": {},
   "outputs": [
    {
     "name": "stdout",
     "output_type": "stream",
     "text": [
      "Beta coefficient:  0.06881374398798912\n",
      "Independent term:  15.791771783005762\n"
     ]
    }
   ],
   "source": [
    "#en = 0.5\n",
    "#ep = 1.5\n",
    "\n",
    "betacoeff = 8.115163242349622*(ep*(0.97595574-0.96920207) + en*(0.98100930-0.98431101))\n",
    "indepterm = 8.115163242349622*(ep*0.96920207+en*0.98431101)\n",
    "\n",
    "print(\"Beta coefficient: \", betacoeff)\n",
    "print(\"Independent term: \", indepterm)"
   ]
  },
  {
   "cell_type": "code",
   "execution_count": 18,
   "id": "9895134e",
   "metadata": {},
   "outputs": [
    {
     "name": "stdout",
     "output_type": "stream",
     "text": [
      "β =  5010.461601809328\n"
     ]
    }
   ],
   "source": [
    "print(\"β = \", (280.23238008893736-7.823443164915112)/0.05436803204432355)"
   ]
  },
  {
   "cell_type": "code",
   "execution_count": null,
   "id": "5957c225",
   "metadata": {},
   "outputs": [],
   "source": []
  },
  {
   "cell_type": "code",
   "execution_count": null,
   "id": "229e561c",
   "metadata": {},
   "outputs": [],
   "source": []
  }
 ],
 "metadata": {
  "kernelspec": {
   "display_name": "Python 3 (ipykernel)",
   "language": "python",
   "name": "python3"
  },
  "language_info": {
   "codemirror_mode": {
    "name": "ipython",
    "version": 3
   },
   "file_extension": ".py",
   "mimetype": "text/x-python",
   "name": "python",
   "nbconvert_exporter": "python",
   "pygments_lexer": "ipython3",
   "version": "3.9.12"
  }
 },
 "nbformat": 4,
 "nbformat_minor": 5
}
